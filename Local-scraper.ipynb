{
 "cells": [
  {
   "cell_type": "code",
   "execution_count": 1,
   "metadata": {},
   "outputs": [],
   "source": [
    "import requests\n",
    "from bs4 import BeautifulSoup\n",
    "import pandas as pd"
   ]
  },
  {
   "cell_type": "code",
   "execution_count": 2,
   "metadata": {},
   "outputs": [],
   "source": [
    "response = requests.get('http://www.local.com/business/results/listing.cfm?s=Restaurant&ar=New+York%2CNY&gsp=bDZ2b0RSN1BXUXRacm93VDNMbDZaY3JtaHFZVEdjQWtZNDRnSjdTNFdsMGd5U0VoaG1WdkYybktUQWtuUHA5dytnYUZiKzRoUHZZMFh0M0ZHRFRScGVXU053N1FzS3YwZ2hZYTc2N3NFVFhsTjJBeityM1ZSR0k5OUdxaE9SVkxlb3VXc1I1dmFRRGkyY2dGOEQwZTZScGUwVmszK0QyUGtiL2hFTmo2UFBqekxISk9GbmZuOFV1N2kvd3JXWEhBcDNYbGR1UW1TTTJuR3hKYXdMa28ySkk5SHBZU0JuSkY5OWNlZlhjTVJBVE9zZjkxU2FWZy9SaUZGeGZzVmxKUXlyYjByenpHWXVxSzZjT0J0VldHMGZaU3FXZzVPT1d5MmwxaVRLM1pTRGZkb2REbllBWnhROHk4RmJLV0xOL3A1N3ZRZW9XVFdyRjM2QUZiakg4N2RzQko5eHE2MGI0cWtpMEkyRUNxdTk0NTFQN0RMcld6Q2tYdGhKMUxKTFBqQWdHUEpNb1pqL2hNS1BCNUVJdHM3U0RvSHNvQm1ZN080eWNpTWxaL0dLTW5vQW9HdjJHUUJRUytNRnBNamZ2OVJJYmhIbEp1RFpHc2hGVnE5QjB4ZysvaGQzbzNBVWQrSDRVVk1CVHhTRXZkMTVXK1ZyUUlzQytycjNKNURRbVRPeHJ2V21YdUp5aVpkZ2VZQjJMQjRjT1BtKzRCQ0NUQkZFSWgrQlVCMkJJPQ%3D%3D&_opnslfp=1&lwfilter=&wsrt=&wpn=')\n",
    "soup = BeautifulSoup(response.text, 'html.parser')"
   ]
  },
  {
   "cell_type": "code",
   "execution_count": 18,
   "metadata": {},
   "outputs": [
    {
     "data": {
      "text/plain": [
       "<a class=\"nextBtn results-spriteimage\" onclick=\"javascript:showPage('2')\" title=\"Next\">Next</a>"
      ]
     },
     "execution_count": 18,
     "metadata": {},
     "output_type": "execute_result"
    }
   ],
   "source": [
    "cards = soup.select('.webadLI')\n",
    "name = cards[0].select_one('.webadTitle a').text.strip()\n",
    "profile = cards[0].select_one('.webadTitle a')['href'].strip()\n",
    "address = cards[0].select_one('.webadAddress').text.strip()\n",
    "phone = cards[0].select_one('.phNum').text.strip()\n",
    "\n",
    "next_page = soup.select_one('.nextBtn.results-spriteimage')"
   ]
  },
  {
   "cell_type": "code",
   "execution_count": null,
   "metadata": {},
   "outputs": [],
   "source": []
  },
  {
   "cell_type": "markdown",
   "metadata": {},
   "source": [
    "## Thank you"
   ]
  }
 ],
 "metadata": {
  "kernelspec": {
   "display_name": "Python 3.10.6 ('khaliq')",
   "language": "python",
   "name": "python3"
  },
  "language_info": {
   "codemirror_mode": {
    "name": "ipython",
    "version": 3
   },
   "file_extension": ".py",
   "mimetype": "text/x-python",
   "name": "python",
   "nbconvert_exporter": "python",
   "pygments_lexer": "ipython3",
   "version": "3.10.6"
  },
  "orig_nbformat": 4,
  "vscode": {
   "interpreter": {
    "hash": "f083f4f62c7ff79ae1066b6303fc95835897d0a126dd6ae7a42191c9ceef673f"
   }
  }
 },
 "nbformat": 4,
 "nbformat_minor": 2
}
